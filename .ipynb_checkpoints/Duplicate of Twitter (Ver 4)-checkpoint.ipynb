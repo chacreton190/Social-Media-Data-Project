{
 "cells": [
  {
   "cell_type": "markdown",
   "metadata": {},
   "source": [
    "# Twitter Streaming Script \n",
    "### Last Edit: 6/17/20"
   ]
  },
  {
   "cell_type": "markdown",
   "metadata": {},
   "source": [
    "Last run:"
   ]
  },
  {
   "cell_type": "code",
   "execution_count": 6,
   "metadata": {},
   "outputs": [
    {
     "name": "stdout",
     "output_type": "stream",
     "text": [
      "2020-08-07 00:32:25.594741\n"
     ]
    }
   ],
   "source": [
    "from datetime import datetime\n",
    "print(datetime.today())"
   ]
  },
  {
   "cell_type": "markdown",
   "metadata": {},
   "source": [
    "Giving you the option to create a new search term combination"
   ]
  },
  {
   "cell_type": "code",
   "execution_count": 111,
   "metadata": {},
   "outputs": [],
   "source": [
    "def search_term_maker(path1, path2, output_path):\n",
    "    term_list = []\n",
    "    item1 = open(path1, 'r')\n",
    "    item2 = open(path2, 'r')\n",
    "    list1= item1.read().split(',')\n",
    "    list2= item2.read().split(',')\n",
    "    for items1 in list1:\n",
    "        for items2 in list2:\n",
    "            term_list.append(f'{items1} {items2},')\n",
    "            print(term_list)\n",
    "    with open (output_path,'w') as output_file:\n",
    "        for items in term_list:\n",
    "            output_file.write(items)"
   ]
  },
  {
   "cell_type": "code",
   "execution_count": null,
   "metadata": {},
   "outputs": [],
   "source": [
    "os.chdir(search_term_path)\n",
    "search_term_maker('COVID-19 Search Terms(short).txt','Short City Name Query (8-7-20).txt','Complete COVID Query(short)(8-7-20).txt' )\n",
    "os.chdir(cwd)"
   ]
  },
  {
   "cell_type": "code",
   "execution_count": 99,
   "metadata": {},
   "outputs": [],
   "source": [
    "os.chdir(cwd)"
   ]
  },
  {
   "cell_type": "code",
   "execution_count": 96,
   "metadata": {},
   "outputs": [],
   "source": [
    "os.chdir(search_term_path)\n",
    "with open ('Complete COVID Query (8-7-20).txt' ,'w') as output_file:\n",
    "    for items in term_list:\n",
    "        output_file.write(items)"
   ]
  },
  {
   "cell_type": "code",
   "execution_count": null,
   "metadata": {},
   "outputs": [
    {
     "name": "stdout",
     "output_type": "stream",
     "text": [
      "Would you like to set a start time for this program? (Y/N)\n",
      ">>n\n",
      "Would you like to set the run time for this program? (Y/N)\n",
      ">>n\n"
     ]
    }
   ],
   "source": [
    "import datetime as dt\n",
    "from datetime import datetime\n",
    "from tweepy.streaming import StreamListener\n",
    "from tweepy import OAuthHandler\n",
    "from tweepy import Stream\n",
    "from tweepy import API\n",
    "from tweepy import Cursor\n",
    "import Twitter_creds as TC\n",
    "from datetime import date\n",
    "from pathlib import Path\n",
    "import json\n",
    "import os\n",
    "import sys\n",
    "import time\n",
    "\n",
    "\n",
    "def Set_Path_File():\n",
    "    Tweets_folder = Path(\"Twitter Results\")\n",
    "    if Tweets_folder.exists() == False:\n",
    "        Tweets_folder.mkdir()\n",
    "\n",
    "###   Twitter authenticator\n",
    "class TwitterAuthenticator():\n",
    "\n",
    "    def authenticate_twitter_app(self):\n",
    "        auth = OAuthHandler(TC.CONSUMER_KEY, TC.CONSUMER_SECRET)\n",
    "        auth.set_access_token(TC.ACCESS_TOKEN, TC.ACCESS_TOKEN_SECRET)\n",
    "        return auth\n",
    "\n",
    "\n",
    "class TwitterClient():\n",
    "    def __init__(self, twitter_user=None):\n",
    "        self.auth = TwitterAuthenticator().authenticate_twitter_app()\n",
    "        self.twitter_client = API(self.auth)\n",
    "        self.twitter_user = twitter_user\n",
    "\n",
    "    def get_user_timeline_tweets(self, num_tweets):\n",
    "        tweets= []\n",
    "\n",
    "        for tweet in Cursor(self.twitter_client.user_timeline, id=self.twitter_user).items(num_tweets):\n",
    "            tweets.append(tweet)\n",
    "        return tweets\n",
    "\n",
    "class TwitterStreamer():\n",
    "    #Class for streaming and processing live tweets\n",
    "    def __init__(self):\n",
    "        self.twitter_authenticator = TwitterAuthenticator()\n",
    "\n",
    "    def stream_tweets(self, fetched_tweets_filename, hash_tag_list): #\n",
    "        listener = TwitterListener(fetched_tweets_filename)\n",
    "        auth = self.twitter_authenticator.authenticate_twitter_app()\n",
    "        stream = Stream(auth, listener)\n",
    "        stream.filter(track=[hash_tag_list])\n",
    "\n",
    "\n",
    "class TwitterListener(StreamListener):\n",
    "\n",
    "    def __init__(self, fetched_tweets_filename):\n",
    "        self.fectched_tweets_filename = fetched_tweets_filename\n",
    "\n",
    "    def on_data(self, raw_data): #takes in data that is collected from StreamListener\n",
    "        global now\n",
    "        global end_time\n",
    "        start = datetime.now()\n",
    "        if want_runtime.upper().find(\"Y\") < 0:\n",
    "            now = 0\n",
    "            end_time = 1\n",
    "        while now < end_time:\n",
    "            now = datetime.now()\n",
    "\n",
    "            #/////////////////////////////////////////////////////////////\n",
    "            #???????????????????????????????\n",
    "            #Add a line that subtracts now from the end time and tells you how long the program has left to run\n",
    "            #/////////////////////////////////////////////////////////////\n",
    "            try:\n",
    "                Tweets_folder = Path(\"Twitter Results\")\n",
    "                if Tweets_folder.exists() == False:\n",
    "                    Tweets_folder.mkdir()\n",
    "                cwd = os.getcwd()\n",
    "                header = f'Date_Created~]ID~]User_Name~]Screen_Name~]Tweet_Text~]Geo_lat~]Geo_long~]Location~]Lat~]Long~]City~]Country~]Language~]Follower_Count~]Friend_Count~]Retweet_Count~]Favorite_Count~]Reply_count~]Start_time_{now}~]End_time_{end_time}'\n",
    "                with open(self.fectched_tweets_filename, \"a\", encoding=\"utf-8\") as tf:\n",
    "                    if tf.tell() == 0:\n",
    "                        tf.write(header +\"\\n\")\n",
    "                    mydict = json.loads(raw_data.strip(\",\"))\n",
    "                    tweet_text = mydict['text'].replace('\\n','').replace('\\r','').replace('\\t',' ')\n",
    "                    try:\n",
    "                        geo_lat = mydict['geo']['coordinates'][0]\n",
    "                        geo_long = mydict['geo']['coordinates'][1]\n",
    "                        lat = mydict['coordinates']['coordinates'][0]\n",
    "                        long = mydict['coordinates']['coordinates'][1]\n",
    "                        city = mydict['place']['name']\n",
    "                        country = mydict['place']['country']\n",
    "                    except:\n",
    "                        geo_lat = \"None\"\n",
    "                        geo_long = \"None\"\n",
    "                        lat = \"None\"\n",
    "                        long = \"None\"\n",
    "                        city = \"None\"\n",
    "                        country = \"None\"\n",
    "\n",
    "                    data = f\"{mydict['created_at']}~]{mydict['user']['id']}~]{mydict['user']['name']}~]{mydict['user']['screen_name']}~]{tweet_text}~]{geo_lat}~]{geo_long}~]{mydict['user']['location']}~]{lat}~]{long}~]{city}~]{country}~]{mydict['lang']}~]{mydict['user']['followers_count']}~]{mydict['user']['friends_count']}~]{mydict['retweet_count']}~]{mydict['favorite_count']}~]{mydict['reply_count']}\"\n",
    "                    # /////////////////////////////////////////////////////////////\n",
    "                    #only outputs when it finds a search term in the user location, need to add code to allow you to sele\n",
    "                    #which output you want\n",
    "                    # /////////////////////////////////////////////////////////////\n",
    "                    # if mydict['user']['location'] in hash_tag_list.split(\",\"):\n",
    "                    #     tf.write(data + \"\\n\")\n",
    "                    if len(data) > 0:\n",
    "                        tf.write(data + \"\\n\")\n",
    "\n",
    "            except BaseException as e:\n",
    "                print(\"!\" *20 + \"\\n\", f\"!!ERROR!! {e}\")\n",
    "\n",
    "            return True\n",
    "\n",
    "        def on_error(self, status_code): #\n",
    "            if status_code == 420:\n",
    "                return False\n",
    "            print(status_code)\n",
    "        print(\"Program Complete\")\n",
    "        sys.exit()\n",
    "\n",
    "\n",
    "#Set_Path_File()\n",
    "if __name__ == \"__main__\":\n",
    "    cwd = os.getcwd()\n",
    "    Set_Path_File()\n",
    "    want_delay = 0\n",
    "    want_start_time = input(\"Would you like to set a start time for this program? (Y/N)\\n>>\")\n",
    "    if want_start_time .upper().find(\"Y\") >= 0:\n",
    "        input_error = 1\n",
    "        want_delay = 1\n",
    "        while input_error == 1:\n",
    "            start_time_input = input(\"Please enter the desired start time in 24hr format (HH:MM)\\n>>\")\n",
    "            try:\n",
    "                start_time = dt.time(int(start_time_input.split(\":\")[0]), int(start_time_input.split(\":\")[1]), 00)\n",
    "                print(start_time)\n",
    "                check_start = datetime.time(datetime.now())\n",
    "            except:\n",
    "                print('!'*40 +\"ERROR\" + '!'*40)\n",
    "                print(\"You did not enter the start time in the correct format.\\nTry again.\\n\")\n",
    "                continue\n",
    "            input_error = 0\n",
    "    want_runtime = input(\"Would you like to set the run time for this program? (Y/N)\\n>>\")\n",
    "    if want_runtime.upper().find(\"Y\") >= 0:\n",
    "        input_error = 1\n",
    "        while input_error == 1:\n",
    "            runtime_input = input(\"Enter your the number of hours you would this code to run for:\\n\\tExample:\\n\\t\\t1 hour = 1\\n\\t\\t30 minutes = .5\\n\\t\\t1 week = 10080\\n>>\")\n",
    "            try:\n",
    "                runtime = float(runtime_input.replace(\",\",\"\"))\n",
    "                end_time = datetime.now() + dt.timedelta(hours=runtime)\n",
    "                now = datetime.now()\n",
    "            except:\n",
    "                print('!'*40 +\"ERROR\" + '!'*40)\n",
    "                print(\"Please enter only integers as the desired runtime.\\nTry again.\\n\")\n",
    "                continue\n",
    "            input_error = 0\n",
    "    hash_tag_list = input(\"Please enter your search terms\\nBe sure to separate them with a comma(,).\\n>>\")\n",
    "    fetched_tweets_filename_noext = input(\"What would you like to name your output file?\\n>>\")\n",
    "    fetched_tweets_filename = f\"{cwd}\\\\Twitter Results\\\\{fetched_tweets_filename_noext}_{date.today()}.txt\"\n",
    "    twitter_streamer = TwitterStreamer()\n",
    "    if want_delay:\n",
    "        while check_start < start_time:\n",
    "            print(f\"Program will start at about {start_time}.\\nThe program will run for {runtime/60} minutes.\")\n",
    "            time.sleep(60)\n",
    "            check_start = datetime.time(datetime.now())\n",
    "            if want_start_time.upper().find(\"Y\") >= 0:\n",
    "                end_time = datetime.now() + dt.timedelta(hours=runtime)\n",
    "                now = datetime.now()\n",
    "    print(\"Program Running.\")\n",
    "    twitter_streamer.stream_tweets(fetched_tweets_filename, hash_tag_list)\n",
    "\n",
    "\n",
    "    #//////////////////////////////////////////////////////\n",
    "    #These lines of code will stream the Tweets of individual users, when needed. It will need to be\n",
    "    #set up as a module so I can either call the code when wanted\n",
    "    #Ideally, I will want to be able to feed a list of users into the code\n",
    "    # //////////////////////////////////////////////////////\n",
    "\n",
    "    #user_id = input(\"Enter a user id to that you would like output the tweets for.\\n>>\")\n",
    "    #tweet_count = int(input(\"\\tHow many tweets do you want for that user?\\n\\t>>\"))\n",
    "    #twitter_client = TwitterClient(user_id)\n",
    "    #print(twitter_client.get_user_timeline_tweets(tweet_count))\n"
   ]
  },
  {
   "cell_type": "code",
   "execution_count": 16,
   "metadata": {},
   "outputs": [],
   "source": [
    "import pathlib\n",
    "import os"
   ]
  },
  {
   "cell_type": "code",
   "execution_count": 25,
   "metadata": {},
   "outputs": [
    {
     "name": "stdout",
     "output_type": "stream",
     "text": [
      "C:\\Users\\chacr\\OneDrive\\Documents\\Coding\\Social-Media-Data-Project\n"
     ]
    }
   ],
   "source": [
    "cwd= os.getcwd()"
   ]
  },
  {
   "cell_type": "code",
   "execution_count": 60,
   "metadata": {},
   "outputs": [],
   "source": [
    "search_term_path = ('./Search Terms/')\n"
   ]
  },
  {
   "cell_type": "code",
   "execution_count": 19,
   "metadata": {},
   "outputs": [
    {
     "data": {
      "text/plain": [
       "['COVID-19 Search Terms.txt', 'Short City Name Query (8-7-20).txt']"
      ]
     },
     "execution_count": 19,
     "metadata": {},
     "output_type": "execute_result"
    }
   ],
   "source": [
    "os.listdir(search_term_path)"
   ]
  },
  {
   "cell_type": "code",
   "execution_count": null,
   "metadata": {},
   "outputs": [],
   "source": []
  }
 ],
 "metadata": {
  "kernelspec": {
   "display_name": "Python 3",
   "language": "python",
   "name": "python3"
  },
  "language_info": {
   "codemirror_mode": {
    "name": "ipython",
    "version": 3
   },
   "file_extension": ".py",
   "mimetype": "text/x-python",
   "name": "python",
   "nbconvert_exporter": "python",
   "pygments_lexer": "ipython3",
   "version": "3.7.6"
  }
 },
 "nbformat": 4,
 "nbformat_minor": 4
}
